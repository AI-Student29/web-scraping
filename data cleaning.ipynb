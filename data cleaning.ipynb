{
 "cells": [
  {
   "cell_type": "code",
   "execution_count": 2,
   "id": "3345af86",
   "metadata": {},
   "outputs": [],
   "source": [
    "import pandas as pd"
   ]
  },
  {
   "cell_type": "code",
   "execution_count": 4,
   "id": "3da8a706",
   "metadata": {},
   "outputs": [
    {
     "name": "stdout",
     "output_type": "stream",
     "text": [
      "num\n",
      "0      [<p><p>I ordered a Jordan’s 1 size ten they to...\n",
      "1      [<p><p>I bought my daughter a pair of Nike Win...\n",
      "2      [<p><p>I placed an order on Saturday (01/14) a...\n",
      "3      [<p><p>Two months after placing the order, whe...\n",
      "4      [<p>12/9/2022 order a pair of Nike cleats for ...\n",
      "                             ...                        \n",
      "584    I've bought several pairs of Nike Shox over ye...\n",
      "585    I play basketball at a moderate level and I ne...\n",
      "586    I came home and went online to find my daughte...\n",
      "587    I originally wanted to purchase Nike Air TN's ...\n",
      "588    I have tried contacting them for a deep explan...\n",
      "Name: data, Length: 589, dtype: object\n",
      "Dataset size: 589\n"
     ]
    },
    {
     "name": "stderr",
     "output_type": "stream",
     "text": [
      "C:\\Users\\hp\\AppData\\Local\\Temp/ipykernel_24084/2971286651.py:9: FutureWarning: The default value of regex will change from True to False in a future version.\n",
      "  df['data'] = df['data'].str.replace('\\d+', '')\n"
     ]
    },
    {
     "name": "stdout",
     "output_type": "stream",
     "text": [
      "                                                  data\n",
      "num                                                   \n",
      "0    I ordered a Jordan s  size ten they took money...\n",
      "1    I bought my daughter a pair of Nike WinFlo s i...\n",
      "2    I placed an order on Saturday  and paid for ex...\n",
      "3    Two months after placing the order  when I que...\n",
      "4     order a pair of Nike cleats for my son for Ch...\n",
      "..                                                 ...\n",
      "584  I ve bought several pairs of Nike Shox over ye...\n",
      "585  I play basketball at a moderate level and I ne...\n",
      "586  I came home and went online to find my daughte...\n",
      "587  I originally wanted to purchase Nike Air TN s ...\n",
      "588  I have tried contacting them for a deep explan...\n",
      "\n",
      "[589 rows x 1 columns]\n"
     ]
    }
   ],
   "source": [
    "df = pd.read_csv('out.csv',names=['data'])\n",
    "index = [num for num in range(len(df))]\n",
    "df['num'] = index\n",
    "df.set_index(\"num\", inplace = True)\n",
    "\n",
    "print(df['data'])\n",
    "df['data'] = df['data'].replace({'<p>':'','</p>':'','\\[':'','\\]':'','\\/':'','\\(':'','\\)':''}, regex=True)\n",
    "df['data'] = df['data'].str.replace('\\W', ' ', regex=True)\n",
    "df['data'] = df['data'].str.replace('\\d+', '')\n",
    "print(f'Dataset size: {len(df)}')\n",
    "print(df)\n",
    "\n",
    "df.to_csv('file.csv',encoding='utf-8')"
   ]
  },
  {
   "cell_type": "code",
   "execution_count": null,
   "id": "0cf4f00a",
   "metadata": {},
   "outputs": [],
   "source": []
  }
 ],
 "metadata": {
  "kernelspec": {
   "display_name": "Python 3 (ipykernel)",
   "language": "python",
   "name": "python3"
  },
  "language_info": {
   "codemirror_mode": {
    "name": "ipython",
    "version": 3
   },
   "file_extension": ".py",
   "mimetype": "text/x-python",
   "name": "python",
   "nbconvert_exporter": "python",
   "pygments_lexer": "ipython3",
   "version": "3.9.7"
  }
 },
 "nbformat": 4,
 "nbformat_minor": 5
}
